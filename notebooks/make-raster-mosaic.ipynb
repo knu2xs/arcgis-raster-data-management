{
 "cells": [
  {
   "cell_type": "code",
   "execution_count": 1,
   "metadata": {},
   "outputs": [],
   "source": [
    "from pathlib import Path\n",
    "\n",
    "import arcpy"
   ]
  },
  {
   "cell_type": "code",
   "execution_count": 18,
   "metadata": {},
   "outputs": [],
   "source": [
    "arcpy.env.overwriteOutput = True"
   ]
  },
  {
   "cell_type": "code",
   "execution_count": 6,
   "metadata": {},
   "outputs": [
    {
     "name": "stdout",
     "output_type": "stream",
     "text": [
      "D:\\projects\\arcgis-raster-data-management\\data\\raw\n"
     ]
    }
   ],
   "source": [
    "# paths to common data locations - NOTE: to convert any path to a raw string, simply use str(path_instance)\n",
    "dir_prj = Path.cwd().parent\n",
    "dir_data = dir_prj/'data'\n",
    "\n",
    "dir_raw = dir_data/'raw'\n",
    "dir_out = dir_data/'processed'\n",
    "\n",
    "gdb_out = dir_out/'processed.gdb'\n",
    "\n",
    "print(str(dir_raw))"
   ]
  },
  {
   "cell_type": "code",
   "execution_count": 16,
   "metadata": {},
   "outputs": [
    {
     "data": {
      "text/plain": [
       "True"
      ]
     },
     "execution_count": 16,
     "metadata": {},
     "output_type": "execute_result"
    }
   ],
   "source": [
    "# extensions to look for\n",
    "raster_extensions = ['.tif', '.tiff', '.jpg', '.jepg']\n",
    "\n",
    "# to location to find rasters and location for mosaic dataset\n",
    "dir_rasters =Path(r'D:\\projects\\arcgis-raster-data-management\\data\\raw\\raw_rasters')\n",
    "mosaic_pth = Path(r'D:\\projects\\arcgis-raster-data-management\\data\\processed\\processed.gdb\\NDVI_OrganicFarm')\n",
    "\n",
    "dir_rasters.exists()"
   ]
  },
  {
   "cell_type": "code",
   "execution_count": 15,
   "metadata": {},
   "outputs": [
    {
     "data": {
      "text/plain": [
       "[WindowsPath('D:/projects/arcgis-raster-data-management/data/raw/raw_rasters/TESC_Farm_NDVI_orthomosaic.tif')]"
      ]
     },
     "execution_count": 15,
     "metadata": {},
     "output_type": "execute_result"
    }
   ],
   "source": [
    "# get the source rasters as a list of paths\n",
    "raster_lst = [f for f in dir_rasters.glob(r'**/*') if f.suffix.lower() in raster_extensions]\n",
    "\n",
    "raster_lst"
   ]
  },
  {
   "cell_type": "code",
   "execution_count": 17,
   "metadata": {},
   "outputs": [
    {
     "data": {
      "text/plain": [
       "{'catalogPath': 'D:\\\\projects\\\\arcgis-raster-data-management\\\\data\\\\raw\\\\raw_rasters\\\\TESC_Farm_NDVI_orthomosaic.tif',\n",
       " 'FIDSet': None,\n",
       " 'bandCount': 5,\n",
       " 'baseName': 'TESC_Farm_NDVI_orthomosaic',\n",
       " 'canVersion': False,\n",
       " 'changeTracked': False,\n",
       " 'children': [{'catalogPath': 'D:\\\\projects\\\\arcgis-raster-data-management\\\\data\\\\raw\\\\raw_rasters\\\\TESC_Farm_NDVI_orthomosaic.tif\\\\Blue',\n",
       "   'FIDSet': None,\n",
       "   'baseName': 'Blue',\n",
       "   'canVersion': False,\n",
       "   'changeTracked': False,\n",
       "   'children': [],\n",
       "   'childrenExpanded': True,\n",
       "   'dataElementType': 'DERasterBand',\n",
       "   'datasetType': 'RasterBand',\n",
       "   'dataType': 'RasterBand',\n",
       "   'DSID': -1,\n",
       "   'extension': '',\n",
       "   'extent': <Extent object at 0x20de2b09ee0[0x20de2b09f00]>,\n",
       "   'fields': [<Field object at 0x20de2b09d30[0x20de2c7db10]>,\n",
       "    <Field object at 0x20dda0c3850[0x20de2c7d1f0]>],\n",
       "   'file': 'Blue',\n",
       "   'fullPropsRetrieved': True,\n",
       "   'hasOID': False,\n",
       "   'height': 3239,\n",
       "   'indexes': [],\n",
       "   'isCompressed': False,\n",
       "   'isInteger': True,\n",
       "   'isVersioned': False,\n",
       "   'meanCellHeight': 0.0470067305604238,\n",
       "   'meanCellWidth': 0.04700673056034428,\n",
       "   'metadataRetrieved': False,\n",
       "   'MExtent': 'nan nan',\n",
       "   'name': 'Blue',\n",
       "   'noDataValue': 0,\n",
       "   'path': 'D:\\\\projects\\\\arcgis-raster-data-management\\\\data\\\\raw\\\\raw_rasters\\\\TESC_Farm_NDVI_orthomosaic.tif',\n",
       "   'pixelType': 'U16',\n",
       "   'primaryField': 1,\n",
       "   'spatialReference': <SpatialReference object at 0x20dda0bcbe0[0x20de2c7d090]>,\n",
       "   'tableType': 'Value',\n",
       "   'width': 4452,\n",
       "   'ZExtent': 'nan nan'},\n",
       "  {'catalogPath': 'D:\\\\projects\\\\arcgis-raster-data-management\\\\data\\\\raw\\\\raw_rasters\\\\TESC_Farm_NDVI_orthomosaic.tif\\\\Green',\n",
       "   'FIDSet': None,\n",
       "   'baseName': 'Green',\n",
       "   'canVersion': False,\n",
       "   'changeTracked': False,\n",
       "   'children': [],\n",
       "   'childrenExpanded': True,\n",
       "   'dataElementType': 'DERasterBand',\n",
       "   'datasetType': 'RasterBand',\n",
       "   'dataType': 'RasterBand',\n",
       "   'DSID': -1,\n",
       "   'extension': '',\n",
       "   'extent': <Extent object at 0x20de2ce7940[0x20de2ce7870]>,\n",
       "   'fields': [<Field object at 0x20de2ce78e0[0x20de2c7d510]>,\n",
       "    <Field object at 0x20de2ce7550[0x20de2c7d8d0]>],\n",
       "   'file': 'Green',\n",
       "   'fullPropsRetrieved': True,\n",
       "   'hasOID': False,\n",
       "   'height': 3239,\n",
       "   'indexes': [],\n",
       "   'isCompressed': False,\n",
       "   'isInteger': True,\n",
       "   'isVersioned': False,\n",
       "   'meanCellHeight': 0.0470067305604238,\n",
       "   'meanCellWidth': 0.04700673056034428,\n",
       "   'metadataRetrieved': False,\n",
       "   'MExtent': 'nan nan',\n",
       "   'name': 'Green',\n",
       "   'noDataValue': 0,\n",
       "   'path': 'D:\\\\projects\\\\arcgis-raster-data-management\\\\data\\\\raw\\\\raw_rasters\\\\TESC_Farm_NDVI_orthomosaic.tif',\n",
       "   'pixelType': 'U16',\n",
       "   'primaryField': 1,\n",
       "   'spatialReference': <SpatialReference object at 0x20de2ce74f0[0x20de2c7d330]>,\n",
       "   'tableType': 'Value',\n",
       "   'width': 4452,\n",
       "   'ZExtent': 'nan nan'},\n",
       "  {'catalogPath': 'D:\\\\projects\\\\arcgis-raster-data-management\\\\data\\\\raw\\\\raw_rasters\\\\TESC_Farm_NDVI_orthomosaic.tif\\\\Red',\n",
       "   'FIDSet': None,\n",
       "   'baseName': 'Red',\n",
       "   'canVersion': False,\n",
       "   'changeTracked': False,\n",
       "   'children': [],\n",
       "   'childrenExpanded': True,\n",
       "   'dataElementType': 'DERasterBand',\n",
       "   'datasetType': 'RasterBand',\n",
       "   'dataType': 'RasterBand',\n",
       "   'DSID': -1,\n",
       "   'extension': '',\n",
       "   'extent': <Extent object at 0x20de2ce7760[0x20de2ce77b0]>,\n",
       "   'fields': [<Field object at 0x20de2ce7250[0x20de2c7d530]>,\n",
       "    <Field object at 0x20de2ce72b0[0x20de2c7de30]>],\n",
       "   'file': 'Red',\n",
       "   'fullPropsRetrieved': True,\n",
       "   'hasOID': False,\n",
       "   'height': 3239,\n",
       "   'indexes': [],\n",
       "   'isCompressed': False,\n",
       "   'isInteger': True,\n",
       "   'isVersioned': False,\n",
       "   'meanCellHeight': 0.0470067305604238,\n",
       "   'meanCellWidth': 0.04700673056034428,\n",
       "   'metadataRetrieved': False,\n",
       "   'MExtent': 'nan nan',\n",
       "   'name': 'Red',\n",
       "   'noDataValue': 0,\n",
       "   'path': 'D:\\\\projects\\\\arcgis-raster-data-management\\\\data\\\\raw\\\\raw_rasters\\\\TESC_Farm_NDVI_orthomosaic.tif',\n",
       "   'pixelType': 'U16',\n",
       "   'primaryField': 1,\n",
       "   'spatialReference': <SpatialReference object at 0x20de2ce7310[0x20de2c7db30]>,\n",
       "   'tableType': 'Value',\n",
       "   'width': 4452,\n",
       "   'ZExtent': 'nan nan'},\n",
       "  {'catalogPath': 'D:\\\\projects\\\\arcgis-raster-data-management\\\\data\\\\raw\\\\raw_rasters\\\\TESC_Farm_NDVI_orthomosaic.tif\\\\RedEdge',\n",
       "   'FIDSet': None,\n",
       "   'baseName': 'RedEdge',\n",
       "   'canVersion': False,\n",
       "   'changeTracked': False,\n",
       "   'children': [],\n",
       "   'childrenExpanded': True,\n",
       "   'dataElementType': 'DERasterBand',\n",
       "   'datasetType': 'RasterBand',\n",
       "   'dataType': 'RasterBand',\n",
       "   'DSID': -1,\n",
       "   'extension': '',\n",
       "   'extent': <Extent object at 0x20de2ce73a0[0x20de2ce7360]>,\n",
       "   'fields': [<Field object at 0x20de2ce7400[0x20de2c7d8f0]>,\n",
       "    <Field object at 0x20de2ce7460[0x20de2c7d990]>],\n",
       "   'file': 'RedEdge',\n",
       "   'fullPropsRetrieved': True,\n",
       "   'hasOID': False,\n",
       "   'height': 3239,\n",
       "   'indexes': [],\n",
       "   'isCompressed': False,\n",
       "   'isInteger': True,\n",
       "   'isVersioned': False,\n",
       "   'meanCellHeight': 0.0470067305604238,\n",
       "   'meanCellWidth': 0.04700673056034428,\n",
       "   'metadataRetrieved': False,\n",
       "   'MExtent': 'nan nan',\n",
       "   'name': 'RedEdge',\n",
       "   'noDataValue': 0,\n",
       "   'path': 'D:\\\\projects\\\\arcgis-raster-data-management\\\\data\\\\raw\\\\raw_rasters\\\\TESC_Farm_NDVI_orthomosaic.tif',\n",
       "   'pixelType': 'U16',\n",
       "   'primaryField': 1,\n",
       "   'spatialReference': <SpatialReference object at 0x20de2ce74c0[0x20de2c7d810]>,\n",
       "   'tableType': 'Value',\n",
       "   'width': 4452,\n",
       "   'ZExtent': 'nan nan'},\n",
       "  {'catalogPath': 'D:\\\\projects\\\\arcgis-raster-data-management\\\\data\\\\raw\\\\raw_rasters\\\\TESC_Farm_NDVI_orthomosaic.tif\\\\NIR',\n",
       "   'FIDSet': None,\n",
       "   'baseName': 'NIR',\n",
       "   'canVersion': False,\n",
       "   'changeTracked': False,\n",
       "   'children': [],\n",
       "   'childrenExpanded': True,\n",
       "   'dataElementType': 'DERasterBand',\n",
       "   'datasetType': 'RasterBand',\n",
       "   'dataType': 'RasterBand',\n",
       "   'DSID': -1,\n",
       "   'extension': '',\n",
       "   'extent': <Extent object at 0x20de2dad3d0[0x20de2ce75a0]>,\n",
       "   'fields': [<Field object at 0x20de2dad370[0x20de2c7d730]>,\n",
       "    <Field object at 0x20de2dad280[0x20de2c7d0f0]>],\n",
       "   'file': 'NIR',\n",
       "   'fullPropsRetrieved': True,\n",
       "   'hasOID': False,\n",
       "   'height': 3239,\n",
       "   'indexes': [],\n",
       "   'isCompressed': False,\n",
       "   'isInteger': True,\n",
       "   'isVersioned': False,\n",
       "   'meanCellHeight': 0.0470067305604238,\n",
       "   'meanCellWidth': 0.04700673056034428,\n",
       "   'metadataRetrieved': False,\n",
       "   'MExtent': 'nan nan',\n",
       "   'name': 'NIR',\n",
       "   'noDataValue': 0,\n",
       "   'path': 'D:\\\\projects\\\\arcgis-raster-data-management\\\\data\\\\raw\\\\raw_rasters\\\\TESC_Farm_NDVI_orthomosaic.tif',\n",
       "   'pixelType': 'U16',\n",
       "   'primaryField': 1,\n",
       "   'spatialReference': <SpatialReference object at 0x20de2dad1f0[0x20de2c7da50]>,\n",
       "   'tableType': 'Value',\n",
       "   'width': 4452,\n",
       "   'ZExtent': 'nan nan'}],\n",
       " 'childrenExpanded': True,\n",
       " 'compressionType': 'LZW',\n",
       " 'dataElementType': 'DERasterDataset',\n",
       " 'datasetType': 'RasterDataset',\n",
       " 'dataType': 'RasterDataset',\n",
       " 'DSID': -1,\n",
       " 'extension': 'tif',\n",
       " 'extent': <Extent object at 0x20de2dad160[0x20de2dad180]>,\n",
       " 'file': 'TESC_Farm_NDVI_orthomosaic.tif',\n",
       " 'format': 'TIFF',\n",
       " 'fullPropsRetrieved': True,\n",
       " 'isVersioned': False,\n",
       " 'metadataRetrieved': False,\n",
       " 'MExtent': 'nan nan',\n",
       " 'name': 'TESC_Farm_NDVI_orthomosaic.tif',\n",
       " 'path': 'D:\\\\projects\\\\arcgis-raster-data-management\\\\data\\\\raw\\\\raw_rasters',\n",
       " 'permanent': True,\n",
       " 'sensorType': '',\n",
       " 'spatialReference': <SpatialReference object at 0x20de2dad100[0x20de2c7de70]>,\n",
       " 'ZExtent': 'nan nan'}"
      ]
     },
     "execution_count": 17,
     "metadata": {},
     "output_type": "execute_result"
    }
   ],
   "source": [
    "# read properties from the first raster\n",
    "desc = arcpy.da.Describe(str(raster_lst[0]))\n",
    "\n",
    "desc"
   ]
  },
  {
   "cell_type": "code",
   "execution_count": 19,
   "metadata": {},
   "outputs": [
    {
     "data": {
      "text/html": [
       "<div class='gpresult'><h2>Messages</h2><div id='messages' data-messages='[\"Start Time: 9 June 2023 08:30:27\",\"Succeeded at 9 June 2023 08:30:35 (Elapsed Time: 8.89 seconds)\"]' data-show='true'><div id = 'default' /></div></div>"
      ],
      "text/plain": [
       "<Result 'D:\\\\projects\\\\arcgis-raster-data-management\\\\data\\\\processed\\\\processed.gdb\\\\NDVI_OrganicFarm'>"
      ]
     },
     "execution_count": 19,
     "metadata": {},
     "output_type": "execute_result"
    }
   ],
   "source": [
    "# create the mosaic dataset using properties of the first raster\n",
    "arcpy.management.CreateMosaicDataset(\n",
    "    in_workspace=str(mosaic_pth.parent),\n",
    "    in_mosaicdataset_name=str(mosaic_pth.name),\n",
    "    coordinate_system=desc['spatialReference'],\n",
    "    num_bands=desc['bandCount']\n",
    ")"
   ]
  },
  {
   "cell_type": "code",
   "execution_count": 20,
   "metadata": {},
   "outputs": [
    {
     "data": {
      "text/html": [
       "<div class='gpresult'><h2>Messages</h2><div id='messages' data-messages='[\"Start Time: 9 June 2023 08:30:40\",\"2023-06-09T08:30:55.015: Loading raster datasets\",\"2023-06-09T08:30:55.265: Completed crawling 1 data source items. Added 1 mosaic dataset items.\",\"2023-06-09T08:30:55.265: Synchronizing crawled data source items\",\"2023-06-09T08:30:55.281: Synchronizing items associated with raster type instance &#39;Raster Dataset&#39; [ID: 1].\",\"2023-06-09T08:30:55.296: Updating histogram statistics for dataset: \\u003cMRF_META\\u003e\\u003cCachedSource\\u003e\\u003cSource\\u003eD:\\\\projects\\\\arcgis-raster-data-management\\\\data\\\\raw\\\\raw_rasters\\\\TESC_Farm_NDVI_orthomosaic.tif\\u003c/Source\\u003e\\u003c/CachedSource\\u003e\\u003cRaster\\u003e\\u003cDataFile\\u003eC:\\\\Users\\\\joel5174\\\\AppData\\\\Local\\\\ESRI\\\\rasterproxies\\\\NDVI_OrganicFarm\\\\NDVI_OrganicFarm_7EC8BC657CB673850E55B08F05A011A6.mrf_cache\\u003c/DataFile\\u003e\\u003cIndexFile\\u003eC:\\\\Users\\\\joel5174\\\\AppData\\\\Local\\\\ESRI\\\\rasterproxies\\\\NDVI_OrganicFarm\\\\NDVI_OrganicFarm_7EC8BC657CB673850E55B08F05A011A6.mrf_cache\\u003c/IndexFile\\u003e\\u003cSize x=\\\"4452\\\" y=\\\"3239\\\" c=\\\"5\\\" /\\u003e\\u003cPageSize x=\\\"256\\\" y=\\\"256\\\" c=\\\"1\\\" /\\u003e\\u003cCompression\\u003eDEFLATE\\u003c/Compression\\u003e\\u003cDataValues min=\\\"4087 4087 4087 4087 4087\\\" max=\\\"65055 63876 64373 62996 61095\\\" NoData=\\\"0 0 0 0 0\\\" /\\u003e\\u003cDataType\\u003eUInt16\\u003c/DataType\\u003e\\u003c/Raster\\u003e\\u003cRsets model=\\\"uniform\\\" scale=\\\"2\\\" /\\u003e\\u003cGeoTags\\u003e\\u003cBoundingBox minx=\\\"500902.058118\\\" miny=\\\"5212798.194396\\\" maxx=\\\"501111.332083\\\" maxy=\\\"5212950.449196\\\" /\\u003e\\u003cProjection\\u003eCOMPD_CS[\\\"unknown\\\",PROJCS[\\\"WGS_1984_UTM_Zone_10N\\\",GEOGCS[\\\"GCS_WGS_1984\\\",DATUM[\\\"WGS_1984\\\",SPHEROID[\\\"WGS_84\\\",6378137.0,298.257223563,AUTHORITY[\\\"EPSG\\\",\\\"7030\\\"]],AUTHORITY[\\\"EPSG\\\",\\\"6326\\\"]],PRIMEM[\\\"Greenwich\\\",0.0,AUTHORITY[\\\"EPSG\\\",\\\"8901\\\"]],UNIT[\\\"Degree\\\",0.0174532925199433,AUTHORITY[\\\"EPSG\\\",\\\"9102\\\"]],AUTHORITY[\\\"EPSG\\\",\\\"4326\\\"]],PROJECTION[\\\"Transverse_Mercator\\\",AUTHORITY[\\\"Esri\\\",\\\"43006\\\"]],PARAMETER[\\\"False_Easting\\\",500000.0,AUTHORITY[\\\"Esri\\\",\\\"100001\\\"]],PARAMETER[\\\"False_Northing\\\",0.0,AUTHORITY[\\\"Esri\\\",\\\"100002\\\"]],PARAMETER[\\\"Central_Meridian\\\",-123.0,AUTHORITY[\\\"Esri\\\",\\\"100010\\\"]],PARAMETER[\\\"Scale_Factor\\\",0.9996,AUTHORITY[\\\"Esri\\\",\\\"100003\\\"]],PARAMETER[\\\"Latitude_Of_Origin\\\",0.0,AUTHORITY[\\\"Esri\\\",\\\"100021\\\"]],UNIT[\\\"Meter\\\",1.0,AUTHORITY[\\\"EPSG\\\",\\\"9001\\\"]],AUTHORITY[\\\"EPSG\\\",\\\"32610\\\"]],VERTCS[\\\"EGM96_Geoid\\\",VDATUM[\\\"EGM96_Geoid\\\",AUTHORITY[\\\"EPSG\\\",\\\"5171\\\"]],PARAMETER[\\\"Vertical_Shift\\\",0.0,AUTHORITY[\\\"Esri\\\",\\\"100006\\\"]],PARAMETER[\\\"Direction\\\",1.0,AUTHORITY[\\\"Esri\\\",\\\"100007\\\"]],UNIT[\\\"Meter\\\",1.0,AUTHORITY[\\\"EPSG\\\",\\\"9001\\\"]],AUTHORITY[\\\"EPSG\\\",\\\"5773\\\"]]]\\u003c/Projection\\u003e\\u003c/GeoTags\\u003e\\u003cOptions\\u003e\\u003c/Options\\u003e\\u003c/MRF_META\\u003e\",\"2023-06-09T08:30:55.606: Updating histogram statistics for dataset: \\u003cMRF_META\\u003e\\u003cCachedSource\\u003e\\u003cSource\\u003eD:\\\\projects\\\\arcgis-raster-data-management\\\\data\\\\raw\\\\raw_rasters\\\\TESC_Farm_NDVI_orthomosaic.tif\\u003c/Source\\u003e\\u003c/CachedSource\\u003e\\u003cRaster\\u003e\\u003cDataFile\\u003eC:\\\\Users\\\\joel5174\\\\AppData\\\\Local\\\\ESRI\\\\rasterproxies\\\\NDVI_OrganicFarm\\\\NDVI_OrganicFarm_7EC8BC657CB673850E55B08F05A011A6.mrf_cache\\u003c/DataFile\\u003e\\u003cIndexFile\\u003eC:\\\\Users\\\\joel5174\\\\AppData\\\\Local\\\\ESRI\\\\rasterproxies\\\\NDVI_OrganicFarm\\\\NDVI_OrganicFarm_7EC8BC657CB673850E55B08F05A011A6.mrf_cache\\u003c/IndexFile\\u003e\\u003cSize x=\\\"4452\\\" y=\\\"3239\\\" c=\\\"5\\\" /\\u003e\\u003cPageSize x=\\\"256\\\" y=\\\"256\\\" c=\\\"1\\\" /\\u003e\\u003cCompression\\u003eDEFLATE\\u003c/Compression\\u003e\\u003cDataValues min=\\\"4087 4087 4087 4087 4087\\\" max=\\\"65055 63876 64373 62996 61095\\\" NoData=\\\"0 0 0 0 0\\\" /\\u003e\\u003cDataType\\u003eUInt16\\u003c/DataType\\u003e\\u003c/Raster\\u003e\\u003cRsets model=\\\"uniform\\\" scale=\\\"2\\\" /\\u003e\\u003cGeoTags\\u003e\\u003cBoundingBox minx=\\\"500902.058118\\\" miny=\\\"5212798.194396\\\" maxx=\\\"501111.332083\\\" maxy=\\\"5212950.449196\\\" /\\u003e\\u003cProjection\\u003eCOMPD_CS[\\\"unknown\\\",PROJCS[\\\"WGS_1984_UTM_Zone_10N\\\",GEOGCS[\\\"GCS_WGS_1984\\\",DATUM[\\\"WGS_1984\\\",SPHEROID[\\\"WGS_84\\\",6378137.0,298.257223563,AUTHORITY[\\\"EPSG\\\",\\\"7030\\\"]],AUTHORITY[\\\"EPSG\\\",\\\"6326\\\"]],PRIMEM[\\\"Greenwich\\\",0.0,AUTHORITY[\\\"EPSG\\\",\\\"8901\\\"]],UNIT[\\\"Degree\\\",0.0174532925199433,AUTHORITY[\\\"EPSG\\\",\\\"9102\\\"]],AUTHORITY[\\\"EPSG\\\",\\\"4326\\\"]],PROJECTION[\\\"Transverse_Mercator\\\",AUTHORITY[\\\"Esri\\\",\\\"43006\\\"]],PARAMETER[\\\"False_Easting\\\",500000.0,AUTHORITY[\\\"Esri\\\",\\\"100001\\\"]],PARAMETER[\\\"False_Northing\\\",0.0,AUTHORITY[\\\"Esri\\\",\\\"100002\\\"]],PARAMETER[\\\"Central_Meridian\\\",-123.0,AUTHORITY[\\\"Esri\\\",\\\"100010\\\"]],PARAMETER[\\\"Scale_Factor\\\",0.9996,AUTHORITY[\\\"Esri\\\",\\\"100003\\\"]],PARAMETER[\\\"Latitude_Of_Origin\\\",0.0,AUTHORITY[\\\"Esri\\\",\\\"100021\\\"]],UNIT[\\\"Meter\\\",1.0,AUTHORITY[\\\"EPSG\\\",\\\"9001\\\"]],AUTHORITY[\\\"EPSG\\\",\\\"32610\\\"]],VERTCS[\\\"EGM96_Geoid\\\",VDATUM[\\\"EGM96_Geoid\\\",AUTHORITY[\\\"EPSG\\\",\\\"5171\\\"]],PARAMETER[\\\"Vertical_Shift\\\",0.0,AUTHORITY[\\\"Esri\\\",\\\"100006\\\"]],PARAMETER[\\\"Direction\\\",1.0,AUTHORITY[\\\"Esri\\\",\\\"100007\\\"]],UNIT[\\\"Meter\\\",1.0,AUTHORITY[\\\"EPSG\\\",\\\"9001\\\"]],AUTHORITY[\\\"EPSG\\\",\\\"5773\\\"]]]\\u003c/Projection\\u003e\\u003c/GeoTags\\u003e\\u003cOptions\\u003e\\u003c/Options\\u003e\\u003c/MRF_META\\u003e\",\"2023-06-09T08:30:55.634: Estimating raster statistics for mosaic dataset.\",\"2023-06-09T08:30:56.065: Completed synchronization: 1 items selected, 1 items synchronized.\",\"2023-06-09T08:30:56.065: Processing duplicate mosaic dataset items\",\"2023-06-09T08:30:56.065: Removed 0 duplicate mosaic dataset items.\",\"2023-06-09T08:30:56.396: Computing cell size levels\",\"2023-06-09T08:30:56.396: Computing unique cell size values\",\"2023-06-09T08:30:56.450: Computing maximum cell size values\",\"2023-06-09T08:30:56.450: Computing minimum cell size values\",\"2023-06-09T08:30:56.450: Updating visibility values of selected items\",\"2023-06-09T08:30:56.468: Computing maximum cell size for mosaic dataset\",\"2023-06-09T08:30:56.624: Completed computing cell size ranges.\",\"2023-06-09T08:30:56.765: Completed building boundary.\",\"2023-06-09T08:30:56.765: Defining overviews\",\"2023-06-09T08:30:56.765: Computing default overview pixel size\",\"2023-06-09T08:30:56.765: Defining overviews for pixel size: 0.09401346112068856\",\"2023-06-09T08:30:56.797: Defining overviews for pixel size: 0.2820403833620657\",\"2023-06-09T08:30:56.812: Defining overviews for pixel size: 0.8461211500861971\",\"2023-06-09T08:30:56.845: Identified 2 overview levels at cell sizes: { 0.2820403833620657 0.8461211500861971 }\",\"2023-06-09T08:30:56.868: Loading raster datasets\",\"2023-06-09T08:30:56.968: Constructing overview items: region 1 of 1 at cell size 0.2820403833620657\",\"2023-06-09T08:30:56.968: Constructing overview items: region 1 of 1 at cell size 0.8461211500861971\",\"2023-06-09T08:30:56.985: Completed crawling 3 data source items. Added 3 mosaic dataset items.\",\"2023-06-09T08:30:57.075: Processing duplicate mosaic dataset items\",\"2023-06-09T08:30:57.078: Removed 0 duplicate mosaic dataset items.\",\"2023-06-09T08:30:57.094: Synchronizing items associated with raster type instance &#39;Overview Instance 2&#39; [ID: 2].\",\"2023-06-09T08:30:57.390: Completed synchronization: 3 items selected, 3 items synchronized.\",\"2023-06-09T08:30:57.390: Completed defining overviews\",\"2023-06-09T08:30:57.402: Computing cell size levels\",\"2023-06-09T08:30:57.402: Computing unique cell size values\",\"2023-06-09T08:30:57.468: Computing maximum cell size values\",\"2023-06-09T08:30:57.484: Updating maximum cell size values\",\"2023-06-09T08:30:57.502: Computing minimum cell size values\",\"2023-06-09T08:30:57.519: Updating visibility values of selected items\",\"2023-06-09T08:30:57.535: Updating visibility values of selected items\",\"2023-06-09T08:30:57.550: Computing maximum cell size for mosaic dataset\",\"2023-06-09T08:30:57.687: Completed computing cell size ranges.\",\"2023-06-09T08:30:57.702: Marking stale and missing overview items\",\"2023-06-09T08:30:57.845: Overview items marked for generation: 0\",\"Succeeded at 9 June 2023 08:31:00 (Elapsed Time: 19.92 seconds)\"]' data-show='true'><div id = 'default' /></div></div>"
      ],
      "text/plain": [
       "<Result 'D:\\\\projects\\\\arcgis-raster-data-management\\\\data\\\\processed\\\\processed.gdb\\\\NDVI_OrganicFarm'>"
      ]
     },
     "execution_count": 20,
     "metadata": {},
     "output_type": "execute_result"
    }
   ],
   "source": [
    "# load the rasters from the source directory to the mosaic dataset\n",
    "# https://pro.arcgis.com/en/pro-app/latest/tool-reference/data-management/add-rasters-to-mosaic-dataset.htm\n",
    "arcpy.management.AddRastersToMosaicDataset(\n",
    "    in_mosaic_dataset=str(mosaic_pth),\n",
    "    raster_type='Raster Dataset',\n",
    "    input_path=[str(pth) for pth in raster_lst],\n",
    "    update_cellsize_ranges=True,\n",
    "    update_boundary=True,\n",
    "    update_overviews=True,\n",
    "    # maximum_pyramid_levels=,\n",
    "    # maximum_cell_size=,\n",
    "    # minimum_dimension=,\n",
    "    spatial_reference=desc['spatialReference'],\n",
    "    # filter=,\n",
    "    # sub_folder=,\n",
    "    duplicate_items_action='EXCLUDE_DUPLICATES',\n",
    "    build_pyramids=True,\n",
    "    calculate_statistics=True,\n",
    "    build_thumbnails=True,\n",
    "    # operation_description=,\n",
    "    # force_spatial_reference=,\n",
    "    estimate_statistics=True,\n",
    "    # aux_inputs=,\n",
    "    enable_pixel_cache=True,\n",
    "    # cache_location=\n",
    ")"
   ]
  },
  {
   "cell_type": "code",
   "execution_count": null,
   "metadata": {},
   "outputs": [],
   "source": []
  }
 ],
 "metadata": {
  "kernelspec": {
   "display_name": "Python 3 (ipykernel)",
   "language": "python",
   "name": "python3"
  },
  "language_info": {
   "codemirror_mode": {
    "name": "ipython",
    "version": 3
   },
   "file_extension": ".py",
   "mimetype": "text/x-python",
   "name": "python",
   "nbconvert_exporter": "python",
   "pygments_lexer": "ipython3",
   "version": "3.9.16"
  }
 },
 "nbformat": 4,
 "nbformat_minor": 4
}
